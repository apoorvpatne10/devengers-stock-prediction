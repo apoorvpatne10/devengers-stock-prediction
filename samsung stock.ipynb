{
 "cells": [
  {
   "cell_type": "code",
   "execution_count": 3,
   "metadata": {
    "_cell_guid": "8fa4d3ab-d84c-454e-b147-bbec7e16d8fd",
    "_uuid": "edaf59c5ec111bf128089f906d74db55d9aa22e5"
   },
   "outputs": [
    {
     "name": "stderr",
     "output_type": "stream",
     "text": [
      "Using TensorFlow backend.\n"
     ]
    }
   ],
   "source": [
    "import numpy as np\n",
    "import pandas as pd \n",
    "from keras.models import Sequential\n",
    "from keras.layers import LSTM,Dense\n",
    "from sklearn.preprocessing import MinMaxScaler\n",
    "import matplotlib.pyplot as plt\n",
    "\n",
    "from subprocess import check_output\n",
    "\n"
   ]
  },
  {
   "cell_type": "code",
   "execution_count": 6,
   "metadata": {},
   "outputs": [],
   "source": [
    "data = pd.read_csv('data.csv')"
   ]
  },
  {
   "cell_type": "code",
   "execution_count": 7,
   "metadata": {},
   "outputs": [
    {
     "data": {
      "text/html": [
       "<div>\n",
       "<style scoped>\n",
       "    .dataframe tbody tr th:only-of-type {\n",
       "        vertical-align: middle;\n",
       "    }\n",
       "\n",
       "    .dataframe tbody tr th {\n",
       "        vertical-align: top;\n",
       "    }\n",
       "\n",
       "    .dataframe thead th {\n",
       "        text-align: right;\n",
       "    }\n",
       "</style>\n",
       "<table border=\"1\" class=\"dataframe\">\n",
       "  <thead>\n",
       "    <tr style=\"text-align: right;\">\n",
       "      <th></th>\n",
       "      <th>Date</th>\n",
       "      <th>Open</th>\n",
       "      <th>High</th>\n",
       "      <th>Low</th>\n",
       "      <th>Close</th>\n",
       "      <th>Adj Close</th>\n",
       "      <th>Volume</th>\n",
       "    </tr>\n",
       "  </thead>\n",
       "  <tbody>\n",
       "    <tr>\n",
       "      <th>0</th>\n",
       "      <td>2018-10-19</td>\n",
       "      <td>43900.0</td>\n",
       "      <td>44150.0</td>\n",
       "      <td>43450.0</td>\n",
       "      <td>43900.0</td>\n",
       "      <td>43494.769531</td>\n",
       "      <td>7842520.0</td>\n",
       "    </tr>\n",
       "    <tr>\n",
       "      <th>1</th>\n",
       "      <td>2018-10-22</td>\n",
       "      <td>43450.0</td>\n",
       "      <td>43950.0</td>\n",
       "      <td>43200.0</td>\n",
       "      <td>43550.0</td>\n",
       "      <td>43148.000000</td>\n",
       "      <td>8357648.0</td>\n",
       "    </tr>\n",
       "    <tr>\n",
       "      <th>2</th>\n",
       "      <td>2018-10-23</td>\n",
       "      <td>43300.0</td>\n",
       "      <td>43450.0</td>\n",
       "      <td>42550.0</td>\n",
       "      <td>43050.0</td>\n",
       "      <td>42652.613281</td>\n",
       "      <td>9531231.0</td>\n",
       "    </tr>\n",
       "    <tr>\n",
       "      <th>3</th>\n",
       "      <td>2018-10-24</td>\n",
       "      <td>43050.0</td>\n",
       "      <td>43100.0</td>\n",
       "      <td>42250.0</td>\n",
       "      <td>42550.0</td>\n",
       "      <td>42157.230469</td>\n",
       "      <td>13522825.0</td>\n",
       "    </tr>\n",
       "    <tr>\n",
       "      <th>4</th>\n",
       "      <td>2018-10-25</td>\n",
       "      <td>40600.0</td>\n",
       "      <td>41550.0</td>\n",
       "      <td>40550.0</td>\n",
       "      <td>41000.0</td>\n",
       "      <td>40621.539063</td>\n",
       "      <td>19338170.0</td>\n",
       "    </tr>\n",
       "  </tbody>\n",
       "</table>\n",
       "</div>"
      ],
      "text/plain": [
       "         Date     Open     High      Low    Close     Adj Close      Volume\n",
       "0  2018-10-19  43900.0  44150.0  43450.0  43900.0  43494.769531   7842520.0\n",
       "1  2018-10-22  43450.0  43950.0  43200.0  43550.0  43148.000000   8357648.0\n",
       "2  2018-10-23  43300.0  43450.0  42550.0  43050.0  42652.613281   9531231.0\n",
       "3  2018-10-24  43050.0  43100.0  42250.0  42550.0  42157.230469  13522825.0\n",
       "4  2018-10-25  40600.0  41550.0  40550.0  41000.0  40621.539063  19338170.0"
      ]
     },
     "execution_count": 7,
     "metadata": {},
     "output_type": "execute_result"
    }
   ],
   "source": [
    "data.head()"
   ]
  },
  {
   "cell_type": "code",
   "execution_count": 14,
   "metadata": {},
   "outputs": [],
   "source": [
    "data.dropna(inplace=True)"
   ]
  },
  {
   "cell_type": "code",
   "execution_count": 15,
   "metadata": {},
   "outputs": [
    {
     "data": {
      "text/plain": [
       "Date         0\n",
       "Open         0\n",
       "High         0\n",
       "Low          0\n",
       "Close        0\n",
       "Adj Close    0\n",
       "Volume       0\n",
       "dtype: int64"
      ]
     },
     "execution_count": 15,
     "metadata": {},
     "output_type": "execute_result"
    }
   ],
   "source": [
    "data.isnull().sum()"
   ]
  },
  {
   "cell_type": "code",
   "execution_count": 16,
   "metadata": {},
   "outputs": [],
   "source": [
    "cl = data.Close"
   ]
  },
  {
   "cell_type": "code",
   "execution_count": 17,
   "metadata": {},
   "outputs": [
    {
     "data": {
      "text/plain": [
       "0      43900.0\n",
       "1      43550.0\n",
       "2      43050.0\n",
       "3      42550.0\n",
       "4      41000.0\n",
       "5      41000.0\n",
       "6      41400.0\n",
       "7      42350.0\n",
       "8      42400.0\n",
       "9      42150.0\n",
       "10     44150.0\n",
       "11     43800.0\n",
       "12     43750.0\n",
       "13     44000.0\n",
       "14     44050.0\n",
       "15     44300.0\n",
       "16     45200.0\n",
       "17     44500.0\n",
       "18     44100.0\n",
       "19     44250.0\n",
       "20     44000.0\n",
       "21     43650.0\n",
       "22     42800.0\n",
       "23     42100.0\n",
       "24     42450.0\n",
       "25     42400.0\n",
       "26     42600.0\n",
       "27     43050.0\n",
       "28     43150.0\n",
       "29     43150.0\n",
       "        ...   \n",
       "213    43400.0\n",
       "214    44000.0\n",
       "215    43800.0\n",
       "217    44100.0\n",
       "218    45700.0\n",
       "219    46300.0\n",
       "220    46900.0\n",
       "222    47150.0\n",
       "223    47100.0\n",
       "224    46900.0\n",
       "225    47700.0\n",
       "226    49150.0\n",
       "227    49200.0\n",
       "228    49300.0\n",
       "229    49500.0\n",
       "230    48900.0\n",
       "231    49200.0\n",
       "232    48400.0\n",
       "233    49050.0\n",
       "234    48850.0\n",
       "235    47600.0\n",
       "237    47750.0\n",
       "238    48900.0\n",
       "239    48550.0\n",
       "240    49150.0\n",
       "241    50000.0\n",
       "242    50100.0\n",
       "243    50700.0\n",
       "244    50500.0\n",
       "245    49900.0\n",
       "Name: Close, Length: 242, dtype: float64"
      ]
     },
     "execution_count": 17,
     "metadata": {},
     "output_type": "execute_result"
    }
   ],
   "source": [
    "cl"
   ]
  },
  {
   "cell_type": "code",
   "execution_count": 25,
   "metadata": {},
   "outputs": [
    {
     "data": {
      "text/plain": [
       "242"
      ]
     },
     "execution_count": 25,
     "metadata": {},
     "output_type": "execute_result"
    }
   ],
   "source": [
    "# data.head()\n",
    "cl.shape[0]"
   ]
  },
  {
   "cell_type": "code",
   "execution_count": 23,
   "metadata": {},
   "outputs": [],
   "source": [
    "scl = MinMaxScaler()\n",
    "#Scale the data"
   ]
  },
  {
   "cell_type": "code",
   "execution_count": 26,
   "metadata": {},
   "outputs": [],
   "source": [
    "cl = cl.values.reshape(cl.shape[0], 1)"
   ]
  },
  {
   "cell_type": "code",
   "execution_count": 28,
   "metadata": {},
   "outputs": [
    {
     "data": {
      "text/plain": [
       "(242, 1)"
      ]
     },
     "execution_count": 28,
     "metadata": {},
     "output_type": "execute_result"
    }
   ],
   "source": [
    "cl.shape"
   ]
  },
  {
   "cell_type": "code",
   "execution_count": 29,
   "metadata": {},
   "outputs": [],
   "source": [
    "cl = scl.fit_transform(cl)"
   ]
  },
  {
   "cell_type": "code",
   "execution_count": 34,
   "metadata": {},
   "outputs": [
    {
     "data": {
      "text/plain": [
       "array([[0.48679245],\n",
       "       [0.46037736],\n",
       "       [0.42264151],\n",
       "       [0.38490566],\n",
       "       [0.26792453],\n",
       "       [0.26792453],\n",
       "       [0.29811321],\n",
       "       [0.36981132],\n",
       "       [0.37358491],\n",
       "       [0.35471698]])"
      ]
     },
     "execution_count": 34,
     "metadata": {},
     "output_type": "execute_result"
    }
   ],
   "source": [
    "cl[:10]"
   ]
  },
  {
   "cell_type": "code",
   "execution_count": 40,
   "metadata": {},
   "outputs": [
    {
     "data": {
      "text/plain": [
       "array([0.48679245, 0.46037736, 0.42264151, 0.38490566, 0.26792453,\n",
       "       0.26792453, 0.29811321])"
      ]
     },
     "execution_count": 40,
     "metadata": {},
     "output_type": "execute_result"
    }
   ],
   "source": [
    "cl[0:7, 0]"
   ]
  },
  {
   "cell_type": "code",
   "execution_count": 41,
   "metadata": {},
   "outputs": [],
   "source": [
    "#Create a function to process the data into 7 day look back slices\n",
    "def processData(data, lb):\n",
    "    X,Y = [],[]\n",
    "    for i in range(len(data)-lb-1):\n",
    "        X.append(data[i:(i+lb),0])\n",
    "        Y.append(data[(i+lb),0])\n",
    "    return np.array(X),np.array(Y)"
   ]
  },
  {
   "cell_type": "code",
   "execution_count": 42,
   "metadata": {},
   "outputs": [],
   "source": [
    "X,y = processData(cl,7)"
   ]
  },
  {
   "cell_type": "code",
   "execution_count": 49,
   "metadata": {},
   "outputs": [
    {
     "name": "stdout",
     "output_type": "stream",
     "text": [
      "[0.48679245 0.46037736 0.42264151 0.38490566 0.26792453 0.26792453\n",
      " 0.29811321]\n",
      "0.36981132075471734\n"
     ]
    }
   ],
   "source": [
    "print(X[0])\n",
    "print(y[0])"
   ]
  },
  {
   "cell_type": "code",
   "execution_count": 52,
   "metadata": {},
   "outputs": [
    {
     "data": {
      "text/plain": [
       "187.20000000000002"
      ]
     },
     "execution_count": 52,
     "metadata": {},
     "output_type": "execute_result"
    }
   ],
   "source": [
    "X.shape[0]*0.80"
   ]
  },
  {
   "cell_type": "code",
   "execution_count": 53,
   "metadata": {},
   "outputs": [
    {
     "name": "stdout",
     "output_type": "stream",
     "text": [
      "187\n",
      "47\n",
      "187\n",
      "47\n"
     ]
    }
   ],
   "source": [
    "X_train,X_test = X[:int(X.shape[0]*0.80)],X[int(X.shape[0]*0.80):]\n",
    "y_train,y_test = y[:int(y.shape[0]*0.80)],y[int(y.shape[0]*0.80):]\n",
    "print(X_train.shape[0])\n",
    "print(X_test.shape[0])\n",
    "print(y_train.shape[0])\n",
    "print(y_test.shape[0])"
   ]
  },
  {
   "cell_type": "code",
   "execution_count": 54,
   "metadata": {},
   "outputs": [
    {
     "name": "stdout",
     "output_type": "stream",
     "text": [
      "WARNING:tensorflow:From /home/apoorv/anaconda3/lib/python3.7/site-packages/tensorflow/python/framework/op_def_library.py:263: colocate_with (from tensorflow.python.framework.ops) is deprecated and will be removed in a future version.\n",
      "Instructions for updating:\n",
      "Colocations handled automatically by placer.\n"
     ]
    }
   ],
   "source": [
    "#Build the model\n",
    "model = Sequential()\n",
    "model.add(LSTM(256,input_shape=(7,1)))\n",
    "model.add(Dense(1))\n",
    "model.compile(optimizer='adam',loss='mse')"
   ]
  },
  {
   "cell_type": "code",
   "execution_count": 56,
   "metadata": {},
   "outputs": [],
   "source": [
    "#Reshape data for (Sample,Timestep,Features) \n",
    "X_train = X_train.reshape((X_train.shape[0],X_train.shape[1],1))\n",
    "X_test = X_test.reshape((X_test.shape[0],X_test.shape[1],1))"
   ]
  },
  {
   "cell_type": "code",
   "execution_count": 55,
   "metadata": {},
   "outputs": [
    {
     "data": {
      "text/plain": [
       "(187, 7, 1)"
      ]
     },
     "execution_count": 55,
     "metadata": {},
     "output_type": "execute_result"
    }
   ],
   "source": []
  },
  {
   "cell_type": "code",
   "execution_count": 66,
   "metadata": {},
   "outputs": [
    {
     "name": "stdout",
     "output_type": "stream",
     "text": [
      "Train on 187 samples, validate on 47 samples\n",
      "Epoch 1/100\n",
      "187/187 [==============================] - 1s 4ms/step - loss: 0.0035 - val_loss: 0.0035\n",
      "Epoch 2/100\n",
      "187/187 [==============================] - 0s 609us/step - loss: 0.0034 - val_loss: 0.0035\n",
      "Epoch 3/100\n",
      "187/187 [==============================] - 0s 675us/step - loss: 0.0034 - val_loss: 0.0035\n",
      "Epoch 4/100\n",
      "187/187 [==============================] - 0s 663us/step - loss: 0.0034 - val_loss: 0.0034\n",
      "Epoch 5/100\n",
      "187/187 [==============================] - 0s 555us/step - loss: 0.0034 - val_loss: 0.0034\n",
      "Epoch 6/100\n",
      "187/187 [==============================] - 0s 692us/step - loss: 0.0034 - val_loss: 0.0034\n",
      "Epoch 7/100\n",
      "187/187 [==============================] - 0s 657us/step - loss: 0.0034 - val_loss: 0.0033\n",
      "Epoch 8/100\n",
      "187/187 [==============================] - 0s 647us/step - loss: 0.0033 - val_loss: 0.0033\n",
      "Epoch 9/100\n",
      "187/187 [==============================] - 0s 640us/step - loss: 0.0033 - val_loss: 0.0033\n",
      "Epoch 10/100\n",
      "187/187 [==============================] - 0s 611us/step - loss: 0.0033 - val_loss: 0.0033\n",
      "Epoch 11/100\n",
      "187/187 [==============================] - 0s 669us/step - loss: 0.0033 - val_loss: 0.0032\n",
      "Epoch 12/100\n",
      "187/187 [==============================] - 0s 650us/step - loss: 0.0033 - val_loss: 0.0032\n",
      "Epoch 13/100\n",
      "187/187 [==============================] - 0s 626us/step - loss: 0.0033 - val_loss: 0.0032\n",
      "Epoch 14/100\n",
      "187/187 [==============================] - 0s 633us/step - loss: 0.0033 - val_loss: 0.0031\n",
      "Epoch 15/100\n",
      "187/187 [==============================] - 0s 566us/step - loss: 0.0032 - val_loss: 0.0031\n",
      "Epoch 16/100\n",
      "187/187 [==============================] - 0s 640us/step - loss: 0.0032 - val_loss: 0.0031\n",
      "Epoch 17/100\n",
      "187/187 [==============================] - 0s 612us/step - loss: 0.0032 - val_loss: 0.0031\n",
      "Epoch 18/100\n",
      "187/187 [==============================] - 0s 613us/step - loss: 0.0032 - val_loss: 0.0030\n",
      "Epoch 19/100\n",
      "187/187 [==============================] - 0s 638us/step - loss: 0.0032 - val_loss: 0.0030\n",
      "Epoch 20/100\n",
      "187/187 [==============================] - 0s 650us/step - loss: 0.0032 - val_loss: 0.0030\n",
      "Epoch 21/100\n",
      "187/187 [==============================] - 0s 597us/step - loss: 0.0032 - val_loss: 0.0030\n",
      "Epoch 22/100\n",
      "187/187 [==============================] - 0s 576us/step - loss: 0.0033 - val_loss: 0.0029\n",
      "Epoch 23/100\n",
      "187/187 [==============================] - 0s 613us/step - loss: 0.0032 - val_loss: 0.0029\n",
      "Epoch 24/100\n",
      "187/187 [==============================] - 0s 588us/step - loss: 0.0032 - val_loss: 0.0029\n",
      "Epoch 25/100\n",
      "187/187 [==============================] - 0s 618us/step - loss: 0.0031 - val_loss: 0.0030\n",
      "Epoch 26/100\n",
      "187/187 [==============================] - 0s 608us/step - loss: 0.0031 - val_loss: 0.0030\n",
      "Epoch 27/100\n",
      "187/187 [==============================] - 0s 633us/step - loss: 0.0031 - val_loss: 0.0030\n",
      "Epoch 28/100\n",
      "187/187 [==============================] - 0s 582us/step - loss: 0.0031 - val_loss: 0.0030\n",
      "Epoch 29/100\n",
      "187/187 [==============================] - 0s 701us/step - loss: 0.0030 - val_loss: 0.0030\n",
      "Epoch 30/100\n",
      "187/187 [==============================] - 0s 640us/step - loss: 0.0030 - val_loss: 0.0029\n",
      "Epoch 31/100\n",
      "187/187 [==============================] - 0s 642us/step - loss: 0.0030 - val_loss: 0.0029\n",
      "Epoch 32/100\n",
      "187/187 [==============================] - 0s 624us/step - loss: 0.0031 - val_loss: 0.0029\n",
      "Epoch 33/100\n",
      "187/187 [==============================] - 0s 612us/step - loss: 0.0032 - val_loss: 0.0028\n",
      "Epoch 34/100\n",
      "187/187 [==============================] - 0s 611us/step - loss: 0.0035 - val_loss: 0.0028\n",
      "Epoch 35/100\n",
      "187/187 [==============================] - 0s 605us/step - loss: 0.0035 - val_loss: 0.0030\n",
      "Epoch 36/100\n",
      "187/187 [==============================] - 0s 657us/step - loss: 0.0032 - val_loss: 0.0029\n",
      "Epoch 37/100\n",
      "187/187 [==============================] - 0s 634us/step - loss: 0.0031 - val_loss: 0.0036\n",
      "Epoch 38/100\n",
      "187/187 [==============================] - 0s 611us/step - loss: 0.0030 - val_loss: 0.0031\n",
      "Epoch 39/100\n",
      "187/187 [==============================] - 0s 660us/step - loss: 0.0030 - val_loss: 0.0029\n",
      "Epoch 40/100\n",
      "187/187 [==============================] - 0s 624us/step - loss: 0.0030 - val_loss: 0.0031\n",
      "Epoch 41/100\n",
      "187/187 [==============================] - 0s 687us/step - loss: 0.0029 - val_loss: 0.0031\n",
      "Epoch 42/100\n",
      "187/187 [==============================] - 0s 600us/step - loss: 0.0029 - val_loss: 0.0029\n",
      "Epoch 43/100\n",
      "187/187 [==============================] - 0s 614us/step - loss: 0.0029 - val_loss: 0.0029\n",
      "Epoch 44/100\n",
      "187/187 [==============================] - 0s 582us/step - loss: 0.0029 - val_loss: 0.0029\n",
      "Epoch 45/100\n",
      "187/187 [==============================] - 0s 578us/step - loss: 0.0029 - val_loss: 0.0029\n",
      "Epoch 46/100\n",
      "187/187 [==============================] - 0s 558us/step - loss: 0.0029 - val_loss: 0.0029\n",
      "Epoch 47/100\n",
      "187/187 [==============================] - 0s 577us/step - loss: 0.0029 - val_loss: 0.0028\n",
      "Epoch 48/100\n",
      "187/187 [==============================] - 0s 530us/step - loss: 0.0029 - val_loss: 0.0028\n",
      "Epoch 49/100\n",
      "187/187 [==============================] - 0s 658us/step - loss: 0.0029 - val_loss: 0.0028\n",
      "Epoch 50/100\n",
      "187/187 [==============================] - 0s 494us/step - loss: 0.0028 - val_loss: 0.0028\n",
      "Epoch 51/100\n",
      "187/187 [==============================] - 0s 696us/step - loss: 0.0028 - val_loss: 0.0028\n",
      "Epoch 52/100\n",
      "187/187 [==============================] - 0s 602us/step - loss: 0.0028 - val_loss: 0.0028\n",
      "Epoch 53/100\n",
      "187/187 [==============================] - 0s 640us/step - loss: 0.0028 - val_loss: 0.0027\n",
      "Epoch 54/100\n",
      "187/187 [==============================] - 0s 816us/step - loss: 0.0028 - val_loss: 0.0027\n",
      "Epoch 55/100\n",
      "187/187 [==============================] - 0s 755us/step - loss: 0.0028 - val_loss: 0.0027\n",
      "Epoch 56/100\n",
      "187/187 [==============================] - 0s 619us/step - loss: 0.0029 - val_loss: 0.0027\n",
      "Epoch 57/100\n",
      "187/187 [==============================] - 0s 587us/step - loss: 0.0030 - val_loss: 0.0026\n",
      "Epoch 58/100\n",
      "187/187 [==============================] - 0s 552us/step - loss: 0.0031 - val_loss: 0.0027\n",
      "Epoch 59/100\n",
      "187/187 [==============================] - 0s 656us/step - loss: 0.0029 - val_loss: 0.0027\n",
      "Epoch 60/100\n",
      "187/187 [==============================] - 0s 572us/step - loss: 0.0028 - val_loss: 0.0028\n",
      "Epoch 61/100\n",
      "187/187 [==============================] - 0s 574us/step - loss: 0.0028 - val_loss: 0.0031\n",
      "Epoch 62/100\n",
      "187/187 [==============================] - 0s 610us/step - loss: 0.0027 - val_loss: 0.0029\n",
      "Epoch 63/100\n",
      "187/187 [==============================] - 0s 631us/step - loss: 0.0027 - val_loss: 0.0027\n",
      "Epoch 64/100\n",
      "187/187 [==============================] - 0s 544us/step - loss: 0.0027 - val_loss: 0.0027\n",
      "Epoch 65/100\n",
      "187/187 [==============================] - 0s 560us/step - loss: 0.0027 - val_loss: 0.0027\n",
      "Epoch 66/100\n",
      "187/187 [==============================] - 0s 568us/step - loss: 0.0027 - val_loss: 0.0027\n",
      "Epoch 67/100\n",
      "187/187 [==============================] - 0s 549us/step - loss: 0.0027 - val_loss: 0.0027\n",
      "Epoch 68/100\n",
      "187/187 [==============================] - 0s 575us/step - loss: 0.0027 - val_loss: 0.0027\n",
      "Epoch 69/100\n",
      "187/187 [==============================] - 0s 595us/step - loss: 0.0027 - val_loss: 0.0027\n",
      "Epoch 70/100\n",
      "187/187 [==============================] - 0s 540us/step - loss: 0.0027 - val_loss: 0.0027\n",
      "Epoch 71/100\n",
      "187/187 [==============================] - 0s 569us/step - loss: 0.0027 - val_loss: 0.0026\n",
      "Epoch 72/100\n",
      "187/187 [==============================] - 0s 637us/step - loss: 0.0027 - val_loss: 0.0026\n",
      "Epoch 73/100\n",
      "187/187 [==============================] - 0s 551us/step - loss: 0.0027 - val_loss: 0.0026\n",
      "Epoch 74/100\n",
      "187/187 [==============================] - 0s 531us/step - loss: 0.0028 - val_loss: 0.0026\n",
      "Epoch 75/100\n",
      "187/187 [==============================] - 0s 540us/step - loss: 0.0030 - val_loss: 0.0025\n",
      "Epoch 76/100\n",
      "187/187 [==============================] - 0s 655us/step - loss: 0.0029 - val_loss: 0.0026\n",
      "Epoch 77/100\n",
      "187/187 [==============================] - 0s 588us/step - loss: 0.0028 - val_loss: 0.0026\n",
      "Epoch 78/100\n",
      "187/187 [==============================] - 0s 594us/step - loss: 0.0027 - val_loss: 0.0029\n",
      "Epoch 79/100\n"
     ]
    },
    {
     "name": "stdout",
     "output_type": "stream",
     "text": [
      "187/187 [==============================] - 0s 585us/step - loss: 0.0027 - val_loss: 0.0030\n",
      "Epoch 80/100\n",
      "187/187 [==============================] - 0s 534us/step - loss: 0.0026 - val_loss: 0.0027\n",
      "Epoch 81/100\n",
      "187/187 [==============================] - 0s 603us/step - loss: 0.0026 - val_loss: 0.0026\n",
      "Epoch 82/100\n",
      "187/187 [==============================] - 0s 569us/step - loss: 0.0026 - val_loss: 0.0027\n",
      "Epoch 83/100\n",
      "187/187 [==============================] - 0s 542us/step - loss: 0.0026 - val_loss: 0.0027\n",
      "Epoch 84/100\n",
      "187/187 [==============================] - 0s 525us/step - loss: 0.0026 - val_loss: 0.0027\n",
      "Epoch 85/100\n",
      "187/187 [==============================] - 0s 569us/step - loss: 0.0026 - val_loss: 0.0027\n",
      "Epoch 86/100\n",
      "187/187 [==============================] - 0s 554us/step - loss: 0.0026 - val_loss: 0.0026\n",
      "Epoch 87/100\n",
      "187/187 [==============================] - 0s 646us/step - loss: 0.0026 - val_loss: 0.0026\n",
      "Epoch 88/100\n",
      "187/187 [==============================] - 0s 802us/step - loss: 0.0026 - val_loss: 0.0026\n",
      "Epoch 89/100\n",
      "187/187 [==============================] - 0s 725us/step - loss: 0.0026 - val_loss: 0.0026\n",
      "Epoch 90/100\n",
      "187/187 [==============================] - 0s 809us/step - loss: 0.0026 - val_loss: 0.0025\n",
      "Epoch 91/100\n",
      "187/187 [==============================] - 0s 610us/step - loss: 0.0027 - val_loss: 0.0025\n",
      "Epoch 92/100\n",
      "187/187 [==============================] - 0s 574us/step - loss: 0.0027 - val_loss: 0.0025\n",
      "Epoch 93/100\n",
      "187/187 [==============================] - 0s 533us/step - loss: 0.0027 - val_loss: 0.0025\n",
      "Epoch 94/100\n",
      "187/187 [==============================] - 0s 574us/step - loss: 0.0027 - val_loss: 0.0025\n",
      "Epoch 95/100\n",
      "187/187 [==============================] - 0s 557us/step - loss: 0.0026 - val_loss: 0.0025\n",
      "Epoch 96/100\n",
      "187/187 [==============================] - 0s 551us/step - loss: 0.0026 - val_loss: 0.0026\n",
      "Epoch 97/100\n",
      "187/187 [==============================] - 0s 685us/step - loss: 0.0026 - val_loss: 0.0027\n",
      "Epoch 98/100\n",
      "187/187 [==============================] - 0s 633us/step - loss: 0.0026 - val_loss: 0.0027\n",
      "Epoch 99/100\n",
      "187/187 [==============================] - 0s 666us/step - loss: 0.0025 - val_loss: 0.0026\n",
      "Epoch 100/100\n",
      "187/187 [==============================] - 0s 577us/step - loss: 0.0026 - val_loss: 0.0026\n"
     ]
    }
   ],
   "source": [
    "#Fit model with history to check for overfitting\n",
    "history = model.fit(X_train,y_train,epochs=100,validation_data=(X_test,y_test),shuffle=False)"
   ]
  },
  {
   "cell_type": "code",
   "execution_count": 58,
   "metadata": {},
   "outputs": [
    {
     "data": {
      "text/plain": [
       "[<matplotlib.lines.Line2D at 0x7f0751fefe10>]"
      ]
     },
     "execution_count": 58,
     "metadata": {},
     "output_type": "execute_result"
    },
    {
     "data": {
      "image/png": "[encoded data removed]",
      "text/plain": [
       "<Figure size 432x288 with 1 Axes>"
      ]
     },
     "metadata": {
      "needs_background": "light"
     },
     "output_type": "display_data"
    }
   ],
   "source": [
    "plt.plot(history.history['loss'])\n",
    "plt.plot(history.history['val_loss'])"
   ]
  },
  {
   "cell_type": "code",
   "execution_count": 59,
   "metadata": {},
   "outputs": [
    {
     "data": {
      "text/plain": [
       "array([[0.74339623],\n",
       "       [0.6754717 ],\n",
       "       [0.73584906],\n",
       "       [0.73207547],\n",
       "       [0.65283019],\n",
       "       [0.68679245],\n",
       "       [0.59622642]])"
      ]
     },
     "execution_count": 59,
     "metadata": {},
     "output_type": "execute_result"
    }
   ],
   "source": [
    "X_test[0]"
   ]
  },
  {
   "cell_type": "code",
   "execution_count": 60,
   "metadata": {},
   "outputs": [
    {
     "data": {
      "text/plain": [
       "[<matplotlib.lines.Line2D at 0x7f07505348d0>]"
      ]
     },
     "execution_count": 60,
     "metadata": {},
     "output_type": "execute_result"
    },
    {
     "data": {
      "image/png": "[encoded data removed]",
      "text/plain": [
       "<Figure size 432x288 with 1 Axes>"
      ]
     },
     "metadata": {
      "needs_background": "light"
     },
     "output_type": "display_data"
    }
   ],
   "source": [
    "Xt = model.predict(X_test)\n",
    "plt.plot(scl.inverse_transform(y_test.reshape(-1,1)))\n",
    "plt.plot(scl.inverse_transform(Xt))"
   ]
  },
  {
   "cell_type": "code",
   "execution_count": 65,
   "metadata": {},
   "outputs": [
    {
     "name": "stdout",
     "output_type": "stream",
     "text": [
      "predicted:[[47044.75]], actual:[[47100.]]\n"
     ]
    }
   ],
   "source": [
    "act = []\n",
    "pred = []\n",
    "#for i in range(250):\n",
    "i=26\n",
    "Xt = model.predict(X_test[i].reshape(1,7,1))\n",
    "# print('predicted:{0}, actual:{1}'.format(,)\n",
    "print(f\"predicted:{scl.inverse_transform(Xt)}, actual:{scl.inverse_transform(y_test[i].reshape(-1,1))}\")\n",
    "pred.append(scl.inverse_transform(Xt))\n",
    "act.append(scl.inverse_transform(y_test[i].reshape(-1,1)))"
   ]
  },
  {
   "cell_type": "code",
   "execution_count": 19,
   "metadata": {},
   "outputs": [],
   "source": [
    "result_df = pd.DataFrame({'pred':list(np.reshape(pred, (-1))),'act':list(np.reshape(act, (-1)))})"
   ]
  },
  {
   "cell_type": "code",
   "execution_count": null,
   "metadata": {},
   "outputs": [],
   "source": [
    "#result_df.plot(kind='line')"
   ]
  },
  {
   "cell_type": "code",
   "execution_count": 20,
   "metadata": {},
   "outputs": [
    {
     "data": {
      "text/plain": [
       "[<matplotlib.lines.Line2D at 0x7f10c2e7fe80>]"
      ]
     },
     "execution_count": 20,
     "metadata": {},
     "output_type": "execute_result"
    },
    {
     "data": {
      "image/png": "[encoded data removed]",
      "text/plain": [
       "<Figure size 432x288 with 1 Axes>"
      ]
     },
     "metadata": {
      "needs_background": "light"
     },
     "output_type": "display_data"
    }
   ],
   "source": [
    "Xt = model.predict(X_test)\n",
    "plt.plot(scl.inverse_transform(y_test.reshape(-1,1)))\n",
    "plt.plot(scl.inverse_transform(Xt))\n"
   ]
  },
  {
   "cell_type": "code",
   "execution_count": null,
   "metadata": {},
   "outputs": [],
   "source": [
    "X_test[249]"
   ]
  },
  {
   "cell_type": "code",
   "execution_count": null,
   "metadata": {},
   "outputs": [],
   "source": [
    "X_test[248]"
   ]
  },
  {
   "cell_type": "code",
   "execution_count": null,
   "metadata": {
    "collapsed": true
   },
   "outputs": [],
   "source": []
  }
 ],
 "metadata": {
  "kernelspec": {
   "display_name": "Python 3",
   "language": "python",
   "name": "python3"
  },
  "language_info": {
   "codemirror_mode": {
    "name": "ipython",
    "version": 3
   },
   "file_extension": ".py",
   "mimetype": "text/x-python",
   "name": "python",
   "nbconvert_exporter": "python",
   "pygments_lexer": "ipython3",
   "version": "3.7.3"
  }
 },
 "nbformat": 4,
 "nbformat_minor": 1
}
